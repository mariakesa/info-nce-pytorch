{
 "cells": [
  {
   "cell_type": "code",
   "execution_count": 1,
   "id": "71288036",
   "metadata": {},
   "outputs": [],
   "source": [
    "import torch\n",
    "import numpy as np"
   ]
  },
  {
   "cell_type": "code",
   "execution_count": 2,
   "id": "51acdbd6",
   "metadata": {},
   "outputs": [],
   "source": [
    "import torch\n",
    "from torch.utils.data import Dataset, DataLoader\n",
    "\n",
    "class TimeSeriesDataset(Dataset):\n",
    "    def __init__(self, time_series, window_size, num_queries):\n",
    "        self.time_series = time_series\n",
    "        self.window_size = window_size\n",
    "        self.num_queries = num_queries\n",
    "\n",
    "    def __len__(self):\n",
    "        return self.num_queries\n",
    "\n",
    "    def __getitem__(self, idx):\n",
    "        query_idx = torch.randint(high=len(self.time_series) - self.window_size, size=(1,))\n",
    "        pos_idx = query_idx + torch.randint(low=1, high=self.window_size, size=(1,))\n",
    "        neg_idx = torch.randint(high=len(self.time_series) - self.window_size, size=(1,))\n",
    "        while torch.abs(query_idx - neg_idx) < self.window_size:\n",
    "            neg_idx = torch.randint(high=len(self.time_series) - self.window_size, size=(1,))\n",
    "\n",
    "        query = self.time_series[query_idx : query_idx + self.window_size]\n",
    "        pos = self.time_series[pos_idx : pos_idx + self.window_size]\n",
    "        neg = self.time_series[neg_idx : neg_idx + self.window_size]\n",
    "\n",
    "        return query, pos, neg"
   ]
  },
  {
   "cell_type": "code",
   "execution_count": 3,
   "id": "3cdfacbc",
   "metadata": {},
   "outputs": [],
   "source": [
    "import pandas as pd\n",
    "\n",
    "data_paths=['/home/maria/NYCCrimesAndTaxis/data/borough_hist_Bronx.csv', \n",
    "            '/home/maria/NYCCrimesAndTaxis/data/borough_hist_Brooklyn.csv',\n",
    "            '/home/maria/NYCCrimesAndTaxis/data/borough_hist_Manhattan.csv', \n",
    "            '/home/maria/NYCCrimesAndTaxis/data/borough_hist_Queens.csv',\n",
    "            '/home/maria/NYCCrimesAndTaxis/data/borough_hist_Staten Island.csv']\n",
    "\n",
    "dfs = []\n",
    "for path in data_paths:\n",
    "    df = pd.read_csv(path)\n",
    "    dfs.append(df)\n",
    "\n",
    "# Merge the DataFrames based on the common columns\n",
    "merged_df = pd.merge(dfs[0], dfs[1], on=['Date', 'DayOfWeekNum'], suffixes=('_Bronx', '_Brooklyn'))\n",
    "for df in dfs[2:]:\n",
    "    merged_df = pd.merge(merged_df, df, on=['Date', 'DayOfWeekNum'])\n",
    "\n",
    "# Drop any duplicate columns that were created during the merge\n",
    "merged_df = merged_df.loc[:,~merged_df.columns.duplicated()]\n",
    "\n",
    "# Rename the columns to remove the borough names\n",
    "merged_df.columns = [col.replace('_Bronx', '').replace('_Brooklyn', '').replace('_Manhattan', '').replace('_Queens', '').replace('_Staten Island', '') for col in merged_df.columns]\n",
    "\n",
    "# Sort the DataFrame by Date\n",
    "merged_df.sort_values(by='Date', inplace=True)\n",
    "\n",
    "# Reset the index\n",
    "merged_df.reset_index(drop=True, inplace=True)\n",
    "\n",
    "# Save the merged DataFrame to a CSV file\n",
    "merged_df.to_csv('/home/maria/NYCCrimesAndTaxis/data/borough_hist_merged.csv', index=False)\n"
   ]
  },
  {
   "cell_type": "code",
   "execution_count": null,
   "id": "50a59bb3",
   "metadata": {},
   "outputs": [],
   "source": []
  },
  {
   "cell_type": "code",
   "execution_count": 5,
   "id": "0ce5f9b2",
   "metadata": {},
   "outputs": [],
   "source": [
    "# Drop the Date and DayOfWeek columns\n",
    "merged_df = merged_df.drop(columns=['Date', 'DayOfWeekNum'])\n",
    "\n",
    "# Convert the DataFrame to a NumPy array\n",
    "data = merged_df.to_numpy(dtype=np.float32)\n"
   ]
  },
  {
   "cell_type": "code",
   "execution_count": 18,
   "id": "c051f12c",
   "metadata": {},
   "outputs": [
    {
     "name": "stdout",
     "output_type": "stream",
     "text": [
      "torch.Size([15, 6, 5])\n",
      "torch.Size([15, 6, 5])\n",
      "torch.Size([15, 6, 5])\n",
      "torch.Size([15, 6, 5])\n",
      "torch.Size([15, 6, 5])\n",
      "torch.Size([15, 6, 5])\n",
      "torch.Size([15, 6, 5])\n",
      "torch.Size([15, 6, 5])\n",
      "torch.Size([15, 6, 5])\n",
      "torch.Size([15, 6, 5])\n"
     ]
    }
   ],
   "source": [
    "#from tsai.all import *\n",
    "import pandas as pd\n",
    "import numpy as np\n",
    "import torch\n",
    "from torch.utils.data import Dataset, DataLoader\n",
    "from tqdm import tqdm\n",
    "\n",
    "class TimeSeriesDataset(Dataset):\n",
    "    def __init__(self, time_series, window_size=6, num_queries=150):\n",
    "        self.time_series = time_series\n",
    "        self.window_size = window_size\n",
    "        self.num_queries = num_queries\n",
    "\n",
    "    def __len__(self):\n",
    "        return self.num_queries\n",
    "\n",
    "    def __getitem__(self, idx):\n",
    "        query_idx = torch.randint(high=len(self.time_series) - self.window_size, size=(1,))\n",
    "        pos_idx = query_idx + torch.randint(low=1, high=self.window_size, size=(1,))\n",
    "        query = self.time_series[query_idx]\n",
    "        pos = self.time_series[pos_idx]\n",
    "\n",
    "        # Generate 6 negative examples that are far away from the query\n",
    "        neg_indices = []\n",
    "        while len(neg_indices) < 6:\n",
    "            neg_idx = torch.randint(high=len(self.time_series) - self.window_size, size=(1,))\n",
    "            if (torch.abs(query_idx - neg_idx) >= self.window_size) and (torch.abs(pos_idx - neg_idx) >= self.window_size):\n",
    "                neg_indices.append(neg_idx)\n",
    "        \n",
    "        negs = [self.time_series[neg_idx] for neg_idx in neg_indices]\n",
    "\n",
    "        return query, pos, torch.Tensor(negs)\n",
    "\n",
    "\n",
    "dataset = TimeSeriesDataset(data)\n",
    "dataloader = DataLoader(dataset, batch_size=15, shuffle=True)\n",
    "\n",
    "for batch in dataloader:\n",
    "    query, pos, neg = batch\n",
    "    print(neg.shape)"
   ]
  },
  {
   "cell_type": "code",
   "execution_count": 15,
   "id": "7eb8eeec",
   "metadata": {},
   "outputs": [
    {
     "name": "stdout",
     "output_type": "stream",
     "text": [
      "MLP(\n",
      "  (layers): Sequential(\n",
      "    (0): Linear(in_features=5, out_features=10, bias=True)\n",
      "    (1): ReLU()\n",
      "    (2): Linear(in_features=10, out_features=20, bias=True)\n",
      "    (3): ReLU()\n",
      "    (4): Linear(in_features=20, out_features=3, bias=True)\n",
      "    (5): ReLU()\n",
      "  )\n",
      ")\n"
     ]
    }
   ],
   "source": [
    "print(mlp_model)"
   ]
  },
  {
   "cell_type": "code",
   "execution_count": 19,
   "id": "c17dba42",
   "metadata": {
    "scrolled": true
   },
   "outputs": [
    {
     "data": {
      "image/png": "[encoded data removed]",
      "text/plain": [
       "<Figure size 640x480 with 1 Axes>"
      ]
     },
     "metadata": {},
     "output_type": "display_data"
    }
   ],
   "source": [
    "import matplotlib.pyplot as plt\n",
    "from info_nce import InfoNCE\n",
    "from torch import nn\n",
    "# Define model, optimizer, and loss function\n",
    "\n",
    "class MLP(nn.Module):\n",
    "    def __init__(self):\n",
    "        super(MLP, self).__init__()\n",
    "        self.layers = nn.Sequential(\n",
    "            nn.Linear(5, 10),\n",
    "            nn.ReLU(),\n",
    "            nn.Linear(10, 20),\n",
    "            nn.ReLU(),\n",
    "            nn.Linear(20, 3),\n",
    "            nn.ReLU()\n",
    "        )\n",
    "        \n",
    "    def forward(self, x):\n",
    "        x = self.layers(x)\n",
    "        #print('x',x.shape)\n",
    "        return x\n",
    "    \n",
    "mlp_model = MLP()\n",
    "optimizer = torch.optim.Adam(mlp_model.parameters(), lr=1e-3)\n",
    "loss_fn = InfoNCE(negative_mode='paired')\n",
    "\n",
    "# Define training loop\n",
    "epochs = 100\n",
    "train_losses = []\n",
    "for epoch in range(1, epochs+1):\n",
    "    epoch_loss = 0\n",
    "    for batch in dataloader:\n",
    "        query, pos, neg = batch\n",
    "        #optimizer.zero_grad()\n",
    "        query_embed = mlp_model(query)\n",
    "        pos_embed = mlp_model(pos)\n",
    "        #print('q',query_embed.shape)\n",
    "        neg_embed = torch.stack([mlp_model(torch.Tensor(neg[:,j])) for j in range(6)],dim=1)\n",
    "        #print(neg_embed.shape)\n",
    "        loss = loss_fn(query_embed, pos_embed, neg_embed)\n",
    "        loss.backward()\n",
    "        optimizer.step()\n",
    "        epoch_loss += loss.item()\n",
    "    epoch_loss /= len(dataloader)\n",
    "    train_losses.append(epoch_loss)\n",
    "    #print(f\"Epoch {epoch} loss: {epoch_loss:.4f}\")\n",
    "\n",
    "# Plot loss function\n",
    "plt.plot(range(1, epochs+1), train_losses)\n",
    "plt.title(\"Training Loss\")\n",
    "plt.xlabel(\"Epochs\")\n",
    "plt.ylabel(\"Loss\")\n",
    "plt.show()\n"
   ]
  },
  {
   "cell_type": "code",
   "execution_count": 20,
   "id": "eafb653d",
   "metadata": {},
   "outputs": [
    {
     "name": "stdout",
     "output_type": "stream",
     "text": [
      "[[10355.978      0.         0.    ]\n",
      " [ 7660.4487     0.         0.    ]\n",
      " [ 8985.0205     0.         0.    ]\n",
      " ...\n",
      " [18242.83       0.         0.    ]\n",
      " [13827.049      0.         0.    ]\n",
      " [10562.295      0.         0.    ]]\n"
     ]
    }
   ],
   "source": [
    "a=mlp_model(torch.Tensor(data)).detach().numpy()\n",
    "print(a)"
   ]
  },
  {
   "cell_type": "code",
   "execution_count": null,
   "id": "c77530f2",
   "metadata": {
    "scrolled": true
   },
   "outputs": [],
   "source": [
    "import matplotlib.pyplot as plt\n",
    "fig = plt.figure()\n",
    "ax = fig.add_subplot()\n",
    "ax.scatter(a[:,0], a[:,1])\n",
    "plt.show()"
   ]
  },
  {
   "cell_type": "code",
   "execution_count": null,
   "id": "dff99f3e",
   "metadata": {},
   "outputs": [],
   "source": [
    "!pip install ipympl"
   ]
  }
 ],
 "metadata": {
  "kernelspec": {
   "display_name": "Python 3 (ipykernel)",
   "language": "python",
   "name": "python3"
  },
  "language_info": {
   "codemirror_mode": {
    "name": "ipython",
    "version": 3
   },
   "file_extension": ".py",
   "mimetype": "text/x-python",
   "name": "python",
   "nbconvert_exporter": "python",
   "pygments_lexer": "ipython3",
   "version": "3.9.13"
  }
 },
 "nbformat": 4,
 "nbformat_minor": 5
}
